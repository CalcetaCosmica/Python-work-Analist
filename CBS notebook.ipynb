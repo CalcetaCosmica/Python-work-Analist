{
 "cells": [
  {
   "cell_type": "markdown",
   "id": "48d8c1e2-ac60-4ca3-9237-a3e289beca78",
   "metadata": {},
   "source": [
    "# Borrador"
   ]
  },
  {
   "cell_type": "code",
   "execution_count": 3,
   "id": "d7e83555-2090-4103-ba11-370699fdcc25",
   "metadata": {},
   "outputs": [
    {
     "name": "stdout",
     "output_type": "stream",
     "text": [
      "Collecting pygame-menu\n",
      "  Downloading pygame_menu-4.4.3-py3-none-any.whl.metadata (4.8 kB)\n",
      "Requirement already satisfied: pygame>=1.9.3 in c:\\users\\hugo.aguilar\\appdata\\local\\anaconda3\\lib\\site-packages (from pygame-menu) (2.5.2)\n",
      "Collecting pyperclip (from pygame-menu)\n",
      "  Downloading pyperclip-1.8.2.tar.gz (20 kB)\n",
      "  Preparing metadata (setup.py): started\n",
      "  Preparing metadata (setup.py): finished with status 'done'\n",
      "Requirement already satisfied: typing-extensions in c:\\users\\hugo.aguilar\\appdata\\local\\anaconda3\\lib\\site-packages (from pygame-menu) (4.9.0)\n",
      "Downloading pygame_menu-4.4.3-py3-none-any.whl (1.4 MB)\n",
      "   ---------------------------------------- 0.0/1.4 MB ? eta -:--:--\n",
      "    --------------------------------------- 0.0/1.4 MB 1.4 MB/s eta 0:00:01\n",
      "   -- ------------------------------------- 0.1/1.4 MB 1.1 MB/s eta 0:00:02\n",
      "   ----- ---------------------------------- 0.2/1.4 MB 1.3 MB/s eta 0:00:01\n",
      "   ------ --------------------------------- 0.2/1.4 MB 1.3 MB/s eta 0:00:01\n",
      "   --------- ------------------------------ 0.3/1.4 MB 1.6 MB/s eta 0:00:01\n",
      "   ------------- -------------------------- 0.5/1.4 MB 2.0 MB/s eta 0:00:01\n",
      "   ------------------ --------------------- 0.6/1.4 MB 2.1 MB/s eta 0:00:01\n",
      "   ----------------------- ---------------- 0.8/1.4 MB 2.4 MB/s eta 0:00:01\n",
      "   ----------------------------- ---------- 1.0/1.4 MB 2.5 MB/s eta 0:00:01\n",
      "   ----------------------------------- ---- 1.2/1.4 MB 2.7 MB/s eta 0:00:01\n",
      "   ---------------------------------------  1.4/1.4 MB 2.8 MB/s eta 0:00:01\n",
      "   ---------------------------------------- 1.4/1.4 MB 2.7 MB/s eta 0:00:00\n",
      "Building wheels for collected packages: pyperclip\n",
      "  Building wheel for pyperclip (setup.py): started\n",
      "  Building wheel for pyperclip (setup.py): finished with status 'done'\n",
      "  Created wheel for pyperclip: filename=pyperclip-1.8.2-py3-none-any.whl size=11136 sha256=fa8fdebfb7bdf999d0c27c7036fb4a3a1e0f9491d24e9aa04705280f4a0d9a76\n",
      "  Stored in directory: c:\\users\\hugo.aguilar\\appdata\\local\\pip\\cache\\wheels\\70\\bd\\ba\\8ae5c080c895c9360fe6e153acda2dee82527374467eae061b\n",
      "Successfully built pyperclip\n",
      "Installing collected packages: pyperclip, pygame-menu\n",
      "Successfully installed pygame-menu-4.4.3 pyperclip-1.8.2\n",
      "Note: you may need to restart the kernel to use updated packages.\n"
     ]
    }
   ],
   "source": [
    "pip install pygame-menu\n"
   ]
  },
  {
   "cell_type": "code",
   "execution_count": 11,
   "id": "e3fc6b40-83a4-4fb3-8305-846ec5c6ae88",
   "metadata": {},
   "outputs": [
    {
     "name": "stdout",
     "output_type": "stream",
     "text": [
      "Requirement already satisfied: pygame-menu in c:\\users\\hugo.aguilar\\appdata\\local\\anaconda3\\lib\\site-packages (4.4.3)\n",
      "Requirement already satisfied: pygame>=1.9.3 in c:\\users\\hugo.aguilar\\appdata\\local\\anaconda3\\lib\\site-packages (from pygame-menu) (2.5.2)\n",
      "Requirement already satisfied: pyperclip in c:\\users\\hugo.aguilar\\appdata\\local\\anaconda3\\lib\\site-packages (from pygame-menu) (1.8.2)\n",
      "Requirement already satisfied: typing-extensions in c:\\users\\hugo.aguilar\\appdata\\local\\anaconda3\\lib\\site-packages (from pygame-menu) (4.9.0)\n",
      "Note: you may need to restart the kernel to use updated packages.\n"
     ]
    }
   ],
   "source": [
    "pip install --upgrade pygame-menu\n"
   ]
  },
  {
   "cell_type": "code",
   "execution_count": null,
   "id": "eb74d725-69fe-4ea0-9337-19f82334b9aa",
   "metadata": {},
   "outputs": [
    {
     "name": "stdout",
     "output_type": "stream",
     "text": [
      "pygame 2.5.2 (SDL 2.28.3, Python 3.11.7)\n",
      "Hello from the pygame community. https://www.pygame.org/contribute.html\n",
      "pygame-menu 4.4.3\n",
      "Opción seleccionada: Decir cantidad total\n",
      "Opción seleccionada: Resover un disputa\n"
     ]
    }
   ],
   "source": [
    "import pygame\n",
    "import pygame_menu\n",
    "\n",
    "# Inicializar pygame\n",
    "pygame.init()\n",
    "\n",
    "# Definir dimensiones de la ventana\n",
    "SCREEN_WIDTH, SCREEN_HEIGHT = 800, 600\n",
    "screen = pygame.display.set_mode((SCREEN_WIDTH, SCREEN_HEIGHT))\n",
    "pygame.display.set_caption(\"Modelo de llamada CBS\")\n",
    "\n",
    "\n",
    "screen = pygame.display.set_mode((SCREEN_WIDTH, SCREEN_HEIGHT))\n",
    "pygame.display.set_caption(\"Modelo de llamada CBS\")\n",
    "\n",
    "# Colores\n",
    "WHITE = (255, 255, 255)\n",
    "BLACK = (0, 0, 0)\n",
    "GREEN = (0, 255, 0)\n",
    "RED = (255, 0, 0)\n",
    "\n",
    "# Función para iniciar el juego\n",
    "def start_the_game(selected_option):\n",
    "    print(f\"Opción seleccionada: {selected_option}\")\n",
    "    if selected_option == 'Opción 1':\n",
    "        # Realizar acciones para la opción 1\n",
    "        print(\"Seleccionaste la Opción 1\")\n",
    "    elif selected_option == 'Opción 2':\n",
    "        # Realizar acciones para la opción 2\n",
    "        print(\"Seleccionaste la Opción 2\")\n",
    "\n",
    "# Crear menú\n",
    "menu = pygame_menu.Menu('Hechos sobre la mesa', SCREEN_WIDTH, SCREEN_HEIGHT, theme=pygame_menu.themes.THEME_BLUE)\n",
    "\n",
    "# Agregar opciones al menú\n",
    "menu.add.button('Resover un disputa', start_the_game, 'Resover un disputa')\n",
    "menu.add.button('Decir cantidad total', start_the_game, 'Decir cantidad total')\n",
    "menu.add.button('Decir cantidad total que debe hoy', start_the_game, 'Decir cantidad total que debe hoy')\n",
    "menu.add.button('Salir', pygame_menu.events.EXIT)\n",
    "\n",
    "# Ejecutar menúD\n",
    "menu.mainloop(screen)\n"
   ]
  },
  {
   "cell_type": "code",
   "execution_count": null,
   "id": "e49bb5c5-5d88-48a1-a27c-d4f914a36c77",
   "metadata": {},
   "outputs": [],
   "source": []
  },
  {
   "cell_type": "code",
   "execution_count": null,
   "id": "d9e88b9c-324c-4942-b9cb-b85b762608f9",
   "metadata": {},
   "outputs": [],
   "source": []
  }
 ],
 "metadata": {
  "kernelspec": {
   "display_name": "Python 3 (ipykernel)",
   "language": "python",
   "name": "python3"
  },
  "language_info": {
   "codemirror_mode": {
    "name": "ipython",
    "version": 3
   },
   "file_extension": ".py",
   "mimetype": "text/x-python",
   "name": "python",
   "nbconvert_exporter": "python",
   "pygments_lexer": "ipython3",
   "version": "3.11.7"
  }
 },
 "nbformat": 4,
 "nbformat_minor": 5
}
